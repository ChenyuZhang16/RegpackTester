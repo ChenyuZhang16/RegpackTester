{
 "metadata": {
  "language_info": {
   "codemirror_mode": {
    "name": "ipython",
    "version": 3
   },
   "file_extension": ".py",
   "mimetype": "text/x-python",
   "name": "python",
   "nbconvert_exporter": "python",
   "pygments_lexer": "ipython3",
   "version": "3.8.10"
  },
  "orig_nbformat": 4,
  "kernelspec": {
   "name": "python3",
   "display_name": "Python 3.8.10 64-bit ('individual-project': conda)"
  },
  "interpreter": {
   "hash": "e8d1e231e9d8b9436a6a3c96bef5999fd918d378323865e35ea8ddd4ad636daf"
  }
 },
 "nbformat": 4,
 "nbformat_minor": 2,
 "cells": [
  {
   "cell_type": "code",
   "execution_count": 2,
   "metadata": {},
   "outputs": [],
   "source": [
    "from gimmik import generate_mm\n",
    "import numpy as np"
   ]
  },
  {
   "cell_type": "code",
   "execution_count": 4,
   "metadata": {},
   "outputs": [],
   "source": [
    "matrix = np.genfromtxt(\"../../../cleaned_data/report_mats/diag.txt\")"
   ]
  },
  {
   "cell_type": "code",
   "execution_count": 10,
   "metadata": {},
   "outputs": [
    {
     "output_type": "stream",
     "name": "stdout",
     "text": [
      "\nvoid\ngimmik_mm(int ncol,\n         const double* restrict b, int ldb,\n         double* restrict c, int ldc)\n{\n    double dotp;\n\n    #pragma omp parallel for simd private(dotp)\n    for (int i = 0; i < ncol; i++)\n    {\n        dotp = 1.1*b[i + 0*ldb] + 2.2*b[i + 1*ldb] + 3.3*b[i + 2*ldb] + 4.4*b[i + 3*ldb];\n        c[i + 0*ldc] = dotp;\n        dotp = -1.1*b[i + 1*ldb] + -2.2*b[i + 2*ldb] + -3.3*b[i + 3*ldb];\n        c[i + 1*ldc] = dotp;\n        dotp = 1.1*b[i + 2*ldb] + 2.2*b[i + 3*ldb];\n        c[i + 2*ldc] = dotp;\n        dotp = -1.1*b[i + 3*ldb];\n        c[i + 3*ldc] = dotp;\n        dotp = 1.1*b[i + 0*ldb] + 2.2*b[i + 1*ldb] + 3.3*b[i + 2*ldb] + 4.4*b[i + 3*ldb];\n        c[i + 4*ldc] = dotp;\n        dotp = -1.1*b[i + 1*ldb] + -2.2*b[i + 2*ldb] + -3.3*b[i + 3*ldb];\n        c[i + 5*ldc] = dotp;\n        dotp = 1.1*b[i + 2*ldb] + 2.2*b[i + 3*ldb];\n        c[i + 6*ldc] = dotp;\n        dotp = -1.1*b[i + 3*ldb];\n        c[i + 7*ldc] = dotp;\n    }\n}\n\n"
     ]
    }
   ],
   "source": [
    "# Generate a CUDA kernel for C = mat*B\n",
    "src = generate_mm(mat,rix np.float364 platform='cc-omp, alpha=210, beta=0.0)\n",
    "\n",
    "print()src)"
   ]
  },
  {
   "cell_type": "code",
   "execution_count": 11,
   "metadata": {},
   "outputs": [],
   "source": [
    "with open(\"gimmik_kernel.txt\", \"w\") as text_file:\n",
    "    text_file.write(src)"
   ]
  }
 ]
}