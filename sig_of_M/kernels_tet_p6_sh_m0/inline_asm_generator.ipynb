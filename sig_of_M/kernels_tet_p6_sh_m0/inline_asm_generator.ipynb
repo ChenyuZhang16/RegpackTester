{
 "cells": [
  {
   "cell_type": "code",
   "execution_count": 4,
   "source": [
    "file_name = \"libxsmm_skx_f64_nn_112x8x84_0_48000_48000_a1_b0_p0_m8.sreg.s\""
   ],
   "outputs": [],
   "metadata": {}
  },
  {
   "cell_type": "code",
   "execution_count": 5,
   "source": [
    "with open(\"asm.txt\", 'w') as out_file:\n",
    "    with open(file_name, 'r') as in_file:\n",
    "        for line in in_file:\n",
    "            out_file.write('\"' + line.strip() + '\\\\n\"\\n')    \n",
    "        \n",
    "            # print('\"' + line.strip() + ';\"')"
   ],
   "outputs": [],
   "metadata": {}
  }
 ],
 "metadata": {
  "orig_nbformat": 4,
  "language_info": {
   "name": "python",
   "version": "3.8.8",
   "mimetype": "text/x-python",
   "codemirror_mode": {
    "name": "ipython",
    "version": 3
   },
   "pygments_lexer": "ipython3",
   "nbconvert_exporter": "python",
   "file_extension": ".py"
  },
  "kernelspec": {
   "name": "python3",
   "display_name": "Python 3.8.8 64-bit ('base': conda)"
  },
  "interpreter": {
   "hash": "ead85409a3df2736fa4852a03cf3afe7e5b1dbdc0e40d7d22bbcbf8cf1adf5fa"
  }
 },
 "nbformat": 4,
 "nbformat_minor": 2
}