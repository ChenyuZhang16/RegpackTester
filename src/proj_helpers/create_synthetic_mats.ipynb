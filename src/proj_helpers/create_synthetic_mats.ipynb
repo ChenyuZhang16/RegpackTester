{
 "cells": [
  {
   "cell_type": "markdown",
   "source": [
    "### Synthetic Matrics - random placement (uniform) - obj to see peak CSE gains\n",
    "    - Vary Size\n",
    "    - Vary number of distinct constants\n",
    "    - Vary density"
   ],
   "metadata": {}
  },
  {
   "cell_type": "code",
   "execution_count": null,
   "source": [
    "import numpy as np\n",
    "np.random.seed(42)\n",
    "import random\n",
    "random.seed(42)\n",
    "import os"
   ],
   "outputs": [],
   "metadata": {}
  },
  {
   "cell_type": "code",
   "execution_count": null,
   "source": [
    "class RandomMatrixValidateError(Exception):\n",
    "    pass"
   ],
   "outputs": [],
   "metadata": {}
  },
  {
   "cell_type": "code",
   "execution_count": null,
   "source": [
    "import os\n",
    "class RandomMatrix():\n",
    "    \"\"\"\n",
    "    Generate a random mxn sparse matrix.\n",
    "    Guarantees use of min num_unique constants.\n",
    "    \"\"\"\n",
    "    def __init__(self, dim_0, dim_1, density, num_unique):\n",
    "        self.m = dim_0\n",
    "        self.n = dim_1\n",
    "        self.p = density\n",
    "        self.uniq = num_unique\n",
    "\n",
    "        self.name = \"r_{}_c_{}_p_{}_uniq_{}\".format(dim_0, dim_1, density, num_unique)\n",
    "\n",
    "        self._validate_inputs()\n",
    "\n",
    "        self.mat = self._fill_matrix()\n",
    "\n",
    "    def _validate_inputs(self):\n",
    "        size = self.m * self.n\n",
    "        fill_amount = int(size * self.p)\n",
    "        if fill_amount < self.uniq:\n",
    "            raise RandomMatrixValidateError(\"Density too low for number of unique required\")\n",
    "\n",
    "    def _fill_matrix(self):\n",
    "        draw_amount = int(self.m*self.n*self.p)\n",
    "        # unique values to store in matrix\n",
    "        a_constants = np.arange(start=1, stop=self.uniq+1, dtype='float64')\n",
    "        \n",
    "        mat = np.zeros(shape=[self.m, self.n])\n",
    "        \n",
    "        # build choices\n",
    "        if draw_amount == self.p:\n",
    "            choices = np.random.choice(a_constants, size=draw_amount, replace=False)\n",
    "        else:\n",
    "            choices = np.zeros(draw_amount)\n",
    "            # use each constant at least once\n",
    "            choices[:self.uniq] = np.random.choice(a_constants, size=self.uniq, replace=False)\n",
    "            choices[self.uniq:] = np.random.choice(a_constants, size=draw_amount-self.uniq, replace=True)\n",
    "            \n",
    "        # fill mat with choices\n",
    "        p = [(i,j) for i in range(self.m) for j in range(self.n)]\n",
    "        positions = random.sample(p, draw_amount)\n",
    "        \n",
    "        for i in range(draw_amount):\n",
    "            c = choices[i]\n",
    "            _i, _j = positions[i]\n",
    "            mat[_i, _j] = c\n",
    "\n",
    "        return mat\n",
    "\n",
    "    def save(self, dir):\n",
    "        os.makedirs(dir, exist_ok=True)\n",
    "        fname = os.path.join(dir, self.name+\".txt\")\n",
    "        np.savetxt(fname, self.mat)        "
   ],
   "outputs": [],
   "metadata": {}
  },
  {
   "cell_type": "markdown",
   "source": [
    "### Init Config"
   ],
   "metadata": {}
  },
  {
   "cell_type": "code",
   "execution_count": null,
   "source": [
    "DEFAULT_DIM_0    = 128\n",
    "DEFAULT_DIM_1    = 128\n",
    "DEFAULT_DENSITY  = 0.05\n",
    "DEFAULT_NUM_UNIQ = 16, 64, 256\n",
    "\n",
    "PARENT_DIR = \"./../synth_mats_wider\""
   ],
   "outputs": [],
   "metadata": {}
  },
  {
   "cell_type": "markdown",
   "source": [
    "## Vary rows"
   ],
   "metadata": {}
  },
  {
   "cell_type": "code",
   "execution_count": null,
   "source": [
    "rows = [32, 64, 128, 256, 512, 1024]"
   ],
   "outputs": [],
   "metadata": {}
  },
  {
   "cell_type": "code",
   "execution_count": null,
   "source": [
    "n = DEFAULT_DIM_1\n",
    "p = DEFAULT_DENSITY\n",
    "for q in DEFAULT_NUM_UNIQ:\n",
    "    DIR = os.path.join(PARENT_DIR, \"vary_row/q_{}\".format(q))\n",
    "    for m in rows:\n",
    "        try:\n",
    "            mat = RandomMatrix(m,n,p,q)\n",
    "            mat.save(DIR)\n",
    "        except RandomMatrixValidateError:\n",
    "            print(\"skipped {} {} {} {}\".format(m,n,p,q))"
   ],
   "outputs": [],
   "metadata": {}
  },
  {
   "cell_type": "markdown",
   "source": [
    "## Vary cols"
   ],
   "metadata": {}
  },
  {
   "cell_type": "code",
   "execution_count": null,
   "source": [
    "cols = [32, 64, 128, 256, 512, 1024]"
   ],
   "outputs": [],
   "metadata": {}
  },
  {
   "cell_type": "code",
   "execution_count": null,
   "source": [
    "m = DEFAULT_DIM_0\n",
    "p = DEFAULT_DENSITY\n",
    "for q in DEFAULT_NUM_UNIQ:\n",
    "    DIR = os.path.join(PARENT_DIR, \"vary_col/q_{}\".format(q))\n",
    "    for n in cols:\n",
    "        try:\n",
    "            mat = RandomMatrix(m,n,p,q)\n",
    "            mat.save(DIR)\n",
    "        except RandomMatrixValidateError:\n",
    "            print(\"skipped {} {} {} {}\".format(m,n,p,q))"
   ],
   "outputs": [],
   "metadata": {}
  },
  {
   "cell_type": "markdown",
   "source": [
    "## Vary density"
   ],
   "metadata": {}
  },
  {
   "cell_type": "code",
   "execution_count": null,
   "source": [
    "density = [0.01, 0.025, 0.05, 0.075, 0.1, 0.125, 0.15, 0.2, 0.25, 0.3, 0.4, 0.5, 0.6, 0.7, 0.8, 0.9, 1.0]"
   ],
   "outputs": [],
   "metadata": {}
  },
  {
   "cell_type": "code",
   "execution_count": null,
   "source": [
    "m = DEFAULT_DIM_0\n",
    "n = DEFAULT_DIM_1\n",
    "for q in DEFAULT_NUM_UNIQ:\n",
    "    DIR = os.path.join(PARENT_DIR, \"vary_density/q_{}\".format(q))\n",
    "    for p in density:\n",
    "        try:\n",
    "            mat = RandomMatrix(m,n,p,q)\n",
    "            mat.save(DIR)\n",
    "        except RandomMatrixValidateError:\n",
    "            print(\"skipped {} {} {} {}\".format(m,n,p,q))"
   ],
   "outputs": [],
   "metadata": {}
  },
  {
   "cell_type": "markdown",
   "source": [
    "## Vary num unique"
   ],
   "metadata": {}
  },
  {
   "cell_type": "code",
   "execution_count": null,
   "source": [
    "# unique = [8, 16, 24, 31, 40, 48, 56, 64, 78, 96, 112, 128, 144, 160, 176, 192, 208, 224, 240, 256]\n",
    "unique = np.arange(16, 256+1, 16)\n",
    "print(unique)"
   ],
   "outputs": [],
   "metadata": {}
  },
  {
   "cell_type": "code",
   "execution_count": null,
   "source": [
    "m = DEFAULT_DIM_0\n",
    "n = DEFAULT_DIM_1\n",
    "p = DEFAULT_DENSITY\n",
    "DIR = os.path.join(PARENT_DIR, \"vary_unique/\")\n",
    "for q in unique:\n",
    "    try:\n",
    "        mat = RandomMatrix(m,n,p,q)\n",
    "        mat.save(DIR)\n",
    "    except RandomMatrixValidateError:\n",
    "        print(\"skipped {} {} {} {}\".format(m,n,p,q))"
   ],
   "outputs": [],
   "metadata": {}
  },
  {
   "cell_type": "code",
   "execution_count": null,
   "source": [],
   "outputs": [],
   "metadata": {}
  }
 ],
 "metadata": {
  "kernelspec": {
   "name": "python3",
   "display_name": "Python 3.8.10 64-bit ('msc_project': conda)"
  },
  "language_info": {
   "codemirror_mode": {
    "name": "ipython",
    "version": 3
   },
   "file_extension": ".py",
   "mimetype": "text/x-python",
   "name": "python",
   "nbconvert_exporter": "python",
   "pygments_lexer": "ipython3",
   "version": "3.8.10"
  },
  "interpreter": {
   "hash": "2765c6336bd6c800c32d8104c90f73ed552dfc58fb4b4ce8d9c492c406791433"
  }
 },
 "nbformat": 4,
 "nbformat_minor": 4
}