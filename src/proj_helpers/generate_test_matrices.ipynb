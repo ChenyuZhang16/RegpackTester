{
 "cells": [
  {
   "cell_type": "code",
   "execution_count": 1,
   "source": [
    "import numpy as np"
   ],
   "outputs": [],
   "metadata": {}
  },
  {
   "cell_type": "code",
   "execution_count": 14,
   "source": [
    "for i in range(1, 21):\n",
    "    mat = np.ones((4,i))\n",
    "    np.savetxt(f\"../../cleaned_data/debug_mats/test_matrix_{i:02d}.txt\", mat)"
   ],
   "outputs": [],
   "metadata": {}
  }
 ],
 "metadata": {
  "orig_nbformat": 4,
  "language_info": {
   "name": "python",
   "version": "3.8.10",
   "mimetype": "text/x-python",
   "codemirror_mode": {
    "name": "ipython",
    "version": 3
   },
   "pygments_lexer": "ipython3",
   "nbconvert_exporter": "python",
   "file_extension": ".py"
  },
  "kernelspec": {
   "name": "python3",
   "display_name": "Python 3.8.10 64-bit ('msc_project': conda)"
  },
  "interpreter": {
   "hash": "2765c6336bd6c800c32d8104c90f73ed552dfc58fb4b4ce8d9c492c406791433"
  }
 },
 "nbformat": 4,
 "nbformat_minor": 2
}