{
 "metadata": {
  "language_info": {
   "codemirror_mode": {
    "name": "ipython",
    "version": 3
   },
   "file_extension": ".py",
   "mimetype": "text/x-python",
   "name": "python",
   "nbconvert_exporter": "python",
   "pygments_lexer": "ipython3",
   "version": "3.8.10"
  },
  "orig_nbformat": 4,
  "kernelspec": {
   "name": "python3",
   "display_name": "Python 3.8.10 64-bit ('msc_project': conda)"
  },
  "interpreter": {
   "hash": "2765c6336bd6c800c32d8104c90f73ed552dfc58fb4b4ce8d9c492c406791433"
  }
 },
 "nbformat": 4,
 "nbformat_minor": 2,
 "cells": [
  {
   "cell_type": "code",
   "execution_count": 1,
   "metadata": {},
   "outputs": [],
   "source": [
    "import pickle"
   ]
  },
  {
   "cell_type": "code",
   "execution_count": 2,
   "metadata": {},
   "outputs": [],
   "source": [
    "with open(\"./cleaned_data/matrix_properties.pickle\", \"rb\") as pickle_file:\n",
    "        properties_old = pickle.load(pickle_file)\n",
    "with open(\"./cleaned_data/matrix_properties_new.pickle\", \"rb\") as pickle_file:\n",
    "        properties_new = pickle.load(pickle_file)"
   ]
  },
  {
   "cell_type": "code",
   "execution_count": 4,
   "metadata": {
    "tags": []
   },
   "outputs": [
    {
     "output_type": "stream",
     "name": "stdout",
     "text": [
      "key = 'data/example_mats/hex/p1/gauss-legendre/m6.txt'\na_unique_old = 4, a_unique_new = 2\nkey = 'data/example_mats/hex/p1/gauss-legendre/m132.txt'\na_unique_old = 2, a_unique_new = 1\nkey = 'data/example_mats/hex/p1/gauss-legendre/m460.txt'\na_unique_old = 2, a_unique_new = 1\nkey = 'data/example_mats/hex/p2/gauss-legendre-lobatto/m6.txt'\na_unique_old = 6, a_unique_new = 3\nkey = 'data/example_mats/hex/p2/gauss-legendre-lobatto/m132.txt'\na_unique_old = 6, a_unique_new = 3\nkey = 'data/example_mats/hex/p2/gauss-legendre-lobatto/m460.txt'\na_unique_old = 6, a_unique_new = 3\nkey = 'data/example_mats/hex/p2/gauss-legendre/m6.txt'\na_unique_old = 6, a_unique_new = 3\nkey = 'data/example_mats/hex/p2/gauss-legendre/m132.txt'\na_unique_old = 8, a_unique_new = 4\nkey = 'data/example_mats/hex/p2/gauss-legendre/m460.txt'\na_unique_old = 8, a_unique_new = 4\nkey = 'data/example_mats/hex/p3/gauss-legendre-lobatto/m3.txt'\na_unique_old = 4, a_unique_new = 3\nkey = 'data/example_mats/hex/p3/gauss-legendre-lobatto/m6.txt'\na_unique_old = 6, a_unique_new = 3\nkey = 'data/example_mats/hex/p3/gauss-legendre-lobatto/m132.txt'\na_unique_old = 14, a_unique_new = 7\nkey = 'data/example_mats/hex/p3/gauss-legendre-lobatto/m460.txt'\na_unique_old = 14, a_unique_new = 7\nkey = 'data/example_mats/hex/p3/gauss-legendre/m6.txt'\na_unique_old = 8, a_unique_new = 4\nkey = 'data/example_mats/hex/p3/gauss-legendre/m132.txt'\na_unique_old = 16, a_unique_new = 8\nkey = 'data/example_mats/hex/p3/gauss-legendre/m460.txt'\na_unique_old = 16, a_unique_new = 8\nkey = 'data/example_mats/hex/p4/gauss-legendre-lobatto/m6.txt'\na_unique_old = 8, a_unique_new = 4\nkey = 'data/example_mats/hex/p4/gauss-legendre-lobatto/m132.txt'\na_unique_old = 22, a_unique_new = 11\nkey = 'data/example_mats/hex/p4/gauss-legendre-lobatto/m460.txt'\na_unique_old = 22, a_unique_new = 11\nkey = 'data/example_mats/hex/p4/gauss-legendre/m6.txt'\na_unique_old = 10, a_unique_new = 5\nkey = 'data/example_mats/hex/p4/gauss-legendre/m132.txt'\na_unique_old = 24, a_unique_new = 12\nkey = 'data/example_mats/hex/p4/gauss-legendre/m460.txt'\na_unique_old = 24, a_unique_new = 12\nkey = 'data/example_mats/hex/p5/gauss-legendre-lobatto/m3.txt'\na_unique_old = 6, a_unique_new = 4\nkey = 'data/example_mats/hex/p5/gauss-legendre-lobatto/m6.txt'\na_unique_old = 8, a_unique_new = 4\nkey = 'data/example_mats/hex/p5/gauss-legendre-lobatto/m132.txt'\na_unique_old = 32, a_unique_new = 16\nkey = 'data/example_mats/hex/p5/gauss-legendre-lobatto/m460.txt'\na_unique_old = 32, a_unique_new = 16\nkey = 'data/example_mats/hex/p5/gauss-legendre/m6.txt'\na_unique_old = 12, a_unique_new = 6\nkey = 'data/example_mats/hex/p5/gauss-legendre/m132.txt'\na_unique_old = 36, a_unique_new = 18\nkey = 'data/example_mats/hex/p5/gauss-legendre/m460.txt'\na_unique_old = 36, a_unique_new = 18\nkey = 'data/example_mats/hex/p6/gauss-legendre-lobatto/m6.txt'\na_unique_old = 10, a_unique_new = 5\nkey = 'data/example_mats/hex/p6/gauss-legendre-lobatto/m132.txt'\na_unique_old = 44, a_unique_new = 22\nkey = 'data/example_mats/hex/p6/gauss-legendre-lobatto/m460.txt'\na_unique_old = 44, a_unique_new = 22\nkey = 'data/example_mats/hex/p6/gauss-legendre/m6.txt'\na_unique_old = 14, a_unique_new = 7\nkey = 'data/example_mats/hex/p6/gauss-legendre/m132.txt'\na_unique_old = 48, a_unique_new = 24\nkey = 'data/example_mats/hex/p6/gauss-legendre/m460.txt'\na_unique_old = 48, a_unique_new = 24\nkey = 'data/example_mats/quad/p1/gauss-legendre/m6.txt'\na_unique_old = 4, a_unique_new = 2\nkey = 'data/example_mats/quad/p1/gauss-legendre/m132.txt'\na_unique_old = 2, a_unique_new = 1\nkey = 'data/example_mats/quad/p1/gauss-legendre/m460.txt'\na_unique_old = 2, a_unique_new = 1\nkey = 'data/example_mats/quad/p2/gauss-legendre-lobatto/m6.txt'\na_unique_old = 6, a_unique_new = 3\nkey = 'data/example_mats/quad/p2/gauss-legendre-lobatto/m132.txt'\na_unique_old = 6, a_unique_new = 3\nkey = 'data/example_mats/quad/p2/gauss-legendre-lobatto/m460.txt'\na_unique_old = 6, a_unique_new = 3\nkey = 'data/example_mats/quad/p2/gauss-legendre/m6.txt'\na_unique_old = 6, a_unique_new = 3\nkey = 'data/example_mats/quad/p2/gauss-legendre/m132.txt'\na_unique_old = 8, a_unique_new = 4\nkey = 'data/example_mats/quad/p2/gauss-legendre/m460.txt'\na_unique_old = 8, a_unique_new = 4\nkey = 'data/example_mats/quad/p3/gauss-legendre-lobatto/m3.txt'\na_unique_old = 4, a_unique_new = 3\nkey = 'data/example_mats/quad/p3/gauss-legendre-lobatto/m6.txt'\na_unique_old = 6, a_unique_new = 3\nkey = 'data/example_mats/quad/p3/gauss-legendre-lobatto/m132.txt'\na_unique_old = 14, a_unique_new = 7\nkey = 'data/example_mats/quad/p3/gauss-legendre-lobatto/m460.txt'\na_unique_old = 14, a_unique_new = 7\nkey = 'data/example_mats/quad/p3/gauss-legendre/m6.txt'\na_unique_old = 8, a_unique_new = 4\nkey = 'data/example_mats/quad/p3/gauss-legendre/m132.txt'\na_unique_old = 16, a_unique_new = 8\nkey = 'data/example_mats/quad/p3/gauss-legendre/m460.txt'\na_unique_old = 16, a_unique_new = 8\nkey = 'data/example_mats/quad/p4/gauss-legendre-lobatto/m6.txt'\na_unique_old = 8, a_unique_new = 4\nkey = 'data/example_mats/quad/p4/gauss-legendre-lobatto/m132.txt'\na_unique_old = 22, a_unique_new = 11\nkey = 'data/example_mats/quad/p4/gauss-legendre-lobatto/m460.txt'\na_unique_old = 22, a_unique_new = 11\nkey = 'data/example_mats/quad/p4/gauss-legendre/m6.txt'\na_unique_old = 10, a_unique_new = 5\nkey = 'data/example_mats/quad/p4/gauss-legendre/m132.txt'\na_unique_old = 24, a_unique_new = 12\nkey = 'data/example_mats/quad/p4/gauss-legendre/m460.txt'\na_unique_old = 24, a_unique_new = 12\nkey = 'data/example_mats/quad/p5/gauss-legendre-lobatto/m3.txt'\na_unique_old = 6, a_unique_new = 4\nkey = 'data/example_mats/quad/p5/gauss-legendre-lobatto/m6.txt'\na_unique_old = 8, a_unique_new = 4\nkey = 'data/example_mats/quad/p5/gauss-legendre-lobatto/m132.txt'\na_unique_old = 32, a_unique_new = 16\nkey = 'data/example_mats/quad/p5/gauss-legendre-lobatto/m460.txt'\na_unique_old = 32, a_unique_new = 16\nkey = 'data/example_mats/quad/p5/gauss-legendre/m6.txt'\na_unique_old = 12, a_unique_new = 6\nkey = 'data/example_mats/quad/p5/gauss-legendre/m132.txt'\na_unique_old = 36, a_unique_new = 18\nkey = 'data/example_mats/quad/p5/gauss-legendre/m460.txt'\na_unique_old = 36, a_unique_new = 18\nkey = 'data/example_mats/quad/p6/gauss-legendre-lobatto/m6.txt'\na_unique_old = 10, a_unique_new = 5\nkey = 'data/example_mats/quad/p6/gauss-legendre-lobatto/m132.txt'\na_unique_old = 44, a_unique_new = 22\nkey = 'data/example_mats/quad/p6/gauss-legendre-lobatto/m460.txt'\na_unique_old = 44, a_unique_new = 22\nkey = 'data/example_mats/quad/p6/gauss-legendre/m6.txt'\na_unique_old = 14, a_unique_new = 7\nkey = 'data/example_mats/quad/p6/gauss-legendre/m132.txt'\na_unique_old = 48, a_unique_new = 24\nkey = 'data/example_mats/quad/p6/gauss-legendre/m460.txt'\na_unique_old = 48, a_unique_new = 24\nkey = 'data/example_mats/tet/p1/shunn-ham/m6.txt'\na_unique_old = 6, a_unique_new = 3\nkey = 'data/example_mats/tet/p1/shunn-ham/m132.txt'\na_unique_old = 2, a_unique_new = 1\nkey = 'data/example_mats/tet/p1/shunn-ham/m460.txt'\na_unique_old = 2, a_unique_new = 1\nkey = 'data/example_mats/tet/p2/shunn-ham/m6.txt'\na_unique_old = 28, a_unique_new = 14\nkey = 'data/example_mats/tet/p2/shunn-ham/m132.txt'\na_unique_old = 46, a_unique_new = 23\nkey = 'data/example_mats/tet/p2/shunn-ham/m460.txt'\na_unique_old = 46, a_unique_new = 23\nkey = 'data/example_mats/tet/p3/shunn-ham/m6.txt'\na_unique_old = 80, a_unique_new = 40\nkey = 'data/example_mats/tet/p3/shunn-ham/m132.txt'\na_unique_old = 200, a_unique_new = 100\nkey = 'data/example_mats/tet/p3/shunn-ham/m460.txt'\na_unique_old = 200, a_unique_new = 100\nkey = 'data/example_mats/tet/p4/shunn-ham/m6.txt'\na_unique_old = 202, a_unique_new = 101\nkey = 'data/example_mats/tet/p4/shunn-ham/m132.txt'\na_unique_old = 608, a_unique_new = 304\nkey = 'data/example_mats/tet/p4/shunn-ham/m460.txt'\na_unique_old = 608, a_unique_new = 304\nkey = 'data/example_mats/tet/p5/shunn-ham/m6.txt'\na_unique_old = 428, a_unique_new = 214\nkey = 'data/example_mats/tet/p5/shunn-ham/m132.txt'\na_unique_old = 1568, a_unique_new = 784\nkey = 'data/example_mats/tet/p5/shunn-ham/m460.txt'\na_unique_old = 1568, a_unique_new = 784\nkey = 'data/example_mats/tet/p6/shunn-ham/m6.txt'\na_unique_old = 850, a_unique_new = 425\nkey = 'data/example_mats/tet/p6/shunn-ham/m132.txt'\na_unique_old = 3520, a_unique_new = 1760\nkey = 'data/example_mats/tet/p6/shunn-ham/m460.txt'\na_unique_old = 3520, a_unique_new = 1760\nkey = 'data/example_mats/tri/p1/williams-shunn/m6.txt'\na_unique_old = 6, a_unique_new = 3\nkey = 'data/example_mats/tri/p1/williams-shunn/m132.txt'\na_unique_old = 2, a_unique_new = 1\nkey = 'data/example_mats/tri/p1/williams-shunn/m460.txt'\na_unique_old = 2, a_unique_new = 1\nkey = 'data/example_mats/tri/p2/williams-shunn/m6.txt'\na_unique_old = 20, a_unique_new = 10\nkey = 'data/example_mats/tri/p2/williams-shunn/m132.txt'\na_unique_old = 28, a_unique_new = 14\nkey = 'data/example_mats/tri/p2/williams-shunn/m460.txt'\na_unique_old = 28, a_unique_new = 14\nkey = 'data/example_mats/tri/p3/williams-shunn/m6.txt'\na_unique_old = 40, a_unique_new = 20\nkey = 'data/example_mats/tri/p3/williams-shunn/m132.txt'\na_unique_old = 96, a_unique_new = 48\nkey = 'data/example_mats/tri/p3/williams-shunn/m460.txt'\na_unique_old = 96, a_unique_new = 48\nkey = 'data/example_mats/tri/p4/williams-shunn/m6.txt'\na_unique_old = 78, a_unique_new = 39\nkey = 'data/example_mats/tri/p4/williams-shunn/m132.txt'\na_unique_old = 216, a_unique_new = 108\nkey = 'data/example_mats/tri/p4/williams-shunn/m460.txt'\na_unique_old = 216, a_unique_new = 108\nkey = 'data/example_mats/tri/p5/williams-shunn/m6.txt'\na_unique_old = 126, a_unique_new = 63\nkey = 'data/example_mats/tri/p5/williams-shunn/m132.txt'\na_unique_old = 432, a_unique_new = 216\nkey = 'data/example_mats/tri/p5/williams-shunn/m460.txt'\na_unique_old = 432, a_unique_new = 216\nkey = 'data/example_mats/tri/p6/williams-shunn/m6.txt'\na_unique_old = 200, a_unique_new = 100\nkey = 'data/example_mats/tri/p6/williams-shunn/m132.txt'\na_unique_old = 768, a_unique_new = 384\nkey = 'data/example_mats/tri/p6/williams-shunn/m460.txt'\na_unique_old = 768, a_unique_new = 384\nnum_diff = 106\n"
     ]
    }
   ],
   "source": [
    "num_diff = 0\n",
    "for key in properties_old:\n",
    "    if \"data/example_mats/\" in key:\n",
    "        a_unique_old = properties_old[key][\"a_unique\"]\n",
    "        a_unique_new = properties_new[key][\"a_unique\"]\n",
    "\n",
    "        if a_unique_old != a_unique_new:\n",
    "            print(f\"{key = }\")\n",
    "            print(f\"{a_unique_old = }, {a_unique_new = }\")\n",
    "            num_diff += 1\n",
    "\n",
    "print(f\"{num_diff = }\")"
   ]
  },
  {
   "cell_type": "code",
   "execution_count": null,
   "metadata": {},
   "outputs": [],
   "source": []
  }
 ]
}